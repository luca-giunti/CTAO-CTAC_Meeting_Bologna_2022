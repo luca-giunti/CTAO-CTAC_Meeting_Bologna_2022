{
 "cells": [
  {
   "cell_type": "markdown",
   "metadata": {},
   "source": [
    "# Fitting PKS 2155-304\n"
   ]
  },
  {
   "cell_type": "code",
   "execution_count": 1,
   "metadata": {},
   "outputs": [],
   "source": [
    "import matplotlib.pyplot as plt"
   ]
  },
  {
   "cell_type": "code",
   "execution_count": 2,
   "metadata": {},
   "outputs": [],
   "source": [
    "import numpy as np\n",
    "import astropy.units as u\n",
    "from astropy.coordinates import SkyCoord\n",
    "from gammapy.irf import load_cta_irfs\n",
    "from gammapy.maps import WcsGeom, MapAxis, RegionGeom\n",
    "from gammapy.modeling.models import (\n",
    "    PowerLawSpectralModel,\n",
    "    ExpCutoffPowerLawSpectralModel,\n",
    "    PointSpatialModel,\n",
    "    SkyModel,\n",
    "    Models,\n",
    "    FoVBackgroundModel,\n",
    "    LogParabolaSpectralModel,\n",
    "    EBLAbsorptionNormSpectralModel\n",
    ")\n",
    "from gammapy.makers import SafeMaskMaker, SpectrumDatasetMaker, WobbleRegionsFinder, ReflectedRegionsBackgroundMaker\n",
    "from gammapy.modeling import Fit\n",
    "from gammapy.datasets import MapDataset, FluxPointsDataset, Datasets, SpectrumDataset\n",
    "from scipy.stats import chi2\n",
    "from gammapy.catalog import SourceCatalog4FGL\n",
    "\n",
    "from astropy.coordinates import SkyCoord, Angle\n",
    "from regions import CircleSkyRegion\n",
    "from gammapy.estimators import FluxPointsEstimator\n",
    "from gammapy.data import DataStore\n",
    "from gammapy.visualization import plot_spectrum_datasets_off_regions"
   ]
  },
  {
   "cell_type": "markdown",
   "metadata": {},
   "source": [
    "## Load the data\n",
    "\n",
    "Here, we use some blazar (PKS 2155-304) runs from the HESS Data release."
   ]
  },
  {
   "cell_type": "code",
   "execution_count": 3,
   "metadata": {},
   "outputs": [
    {
     "name": "stdout",
     "output_type": "stream",
     "text": [
      "Number of selected observations : 21\n"
     ]
    }
   ],
   "source": [
    "data_store = DataStore.from_dir(\"$GAMMAPY_DATA/hess-dl3-dr1/\")\n",
    "target_position = SkyCoord(\n",
    "    329.71693826 * u.deg, -30.2255890 * u.deg, frame=\"icrs\"\n",
    ")\n",
    "selection = dict(\n",
    "    type=\"sky_circle\",\n",
    "    frame=\"icrs\",\n",
    "    lon=target_position.ra,\n",
    "    lat=target_position.dec,\n",
    "    radius=2 * u.deg,\n",
    ")\n",
    "obs_ids = data_store.obs_table.select_observations(selection)[\"OBS_ID\"]\n",
    "observations = data_store.get_observations(obs_ids)\n",
    "print(f\"Number of selected observations : {len(observations)}\")"
   ]
  },
  {
   "cell_type": "markdown",
   "metadata": {},
   "source": [
    "To see what you loaded, you can simply"
   ]
  },
  {
   "cell_type": "code",
   "execution_count": 4,
   "metadata": {},
   "outputs": [
    {
     "name": "stdout",
     "output_type": "stream",
     "text": [
      "Observations\n",
      "Number of observations: 21\n",
      "Observation\n",
      "\n",
      "\tobs id            : 33787 \n",
      " \ttstart            : 53945.85\n",
      "\ttstop             : 53945.87\n",
      "\tduration          : 1689.00 s\n",
      "\tpointing (icrs)   : 329.7 deg, -29.7 deg\n",
      "\n",
      "\tdeadtime fraction : 2.5%\n",
      "Observation\n",
      "\n",
      "\tobs id            : 33788 \n",
      " \ttstart            : 53945.87\n",
      "\ttstop             : 53945.89\n",
      "\tduration          : 1689.00 s\n",
      "\tpointing (icrs)   : 329.1 deg, -30.2 deg\n",
      "\n",
      "\tdeadtime fraction : 5.5%\n",
      "Observation\n",
      "\n",
      "\tobs id            : 33789 \n",
      " \ttstart            : 53945.89\n",
      "\ttstop             : 53945.91\n",
      "\tduration          : 1688.00 s\n",
      "\tpointing (icrs)   : 330.3 deg, -30.2 deg\n",
      "\n",
      "\tdeadtime fraction : 6.2%\n",
      "Observation\n",
      "\n",
      "\tobs id            : 33790 \n",
      " \ttstart            : 53945.91\n",
      "\ttstop             : 53945.93\n",
      "\tduration          : 1690.00 s\n",
      "\tpointing (icrs)   : 329.7 deg, -30.7 deg\n",
      "\n",
      "\tdeadtime fraction : 7.6%\n",
      "Observation\n",
      "\n",
      "\tobs id            : 33791 \n",
      " \ttstart            : 53945.94\n",
      "\ttstop             : 53945.95\n",
      "\tduration          : 1689.00 s\n",
      "\tpointing (icrs)   : 329.7 deg, -29.7 deg\n",
      "\n",
      "\tdeadtime fraction : 7.2%\n",
      "Observation\n",
      "\n",
      "\tobs id            : 33792 \n",
      " \ttstart            : 53945.96\n",
      "\ttstop             : 53945.98\n",
      "\tduration          : 1688.00 s\n",
      "\tpointing (icrs)   : 329.1 deg, -30.2 deg\n",
      "\n",
      "\tdeadtime fraction : 7.4%\n",
      "Observation\n",
      "\n",
      "\tobs id            : 33793 \n",
      " \ttstart            : 53945.98\n",
      "\ttstop             : 53946.00\n",
      "\tduration          : 1689.00 s\n",
      "\tpointing (icrs)   : 330.3 deg, -30.2 deg\n",
      "\n",
      "\tdeadtime fraction : 7.2%\n",
      "Observation\n",
      "\n",
      "\tobs id            : 33794 \n",
      " \ttstart            : 53946.00\n",
      "\ttstop             : 53946.02\n",
      "\tduration          : 1688.00 s\n",
      "\tpointing (icrs)   : 329.7 deg, -30.7 deg\n",
      "\n",
      "\tdeadtime fraction : 7.3%\n",
      "Observation\n",
      "\n",
      "\tobs id            : 33795 \n",
      " \ttstart            : 53946.03\n",
      "\ttstop             : 53946.05\n",
      "\tduration          : 1689.00 s\n",
      "\tpointing (icrs)   : 329.7 deg, -29.7 deg\n",
      "\n",
      "\tdeadtime fraction : 7.5%\n",
      "Observation\n",
      "\n",
      "\tobs id            : 33796 \n",
      " \ttstart            : 53946.05\n",
      "\ttstop             : 53946.07\n",
      "\tduration          : 1689.00 s\n",
      "\tpointing (icrs)   : 329.1 deg, -30.2 deg\n",
      "\n",
      "\tdeadtime fraction : 7.4%\n",
      "Observation\n",
      "\n",
      "\tobs id            : 33797 \n",
      " \ttstart            : 53946.07\n",
      "\ttstop             : 53946.09\n",
      "\tduration          : 1689.00 s\n",
      "\tpointing (icrs)   : 330.3 deg, -30.2 deg\n",
      "\n",
      "\tdeadtime fraction : 7.2%\n",
      "Observation\n",
      "\n",
      "\tobs id            : 33798 \n",
      " \ttstart            : 53946.09\n",
      "\ttstop             : 53946.11\n",
      "\tduration          : 1689.00 s\n",
      "\tpointing (icrs)   : 329.7 deg, -30.7 deg\n",
      "\n",
      "\tdeadtime fraction : 6.9%\n",
      "Observation\n",
      "\n",
      "\tobs id            : 33799 \n",
      " \ttstart            : 53946.11\n",
      "\ttstop             : 53946.13\n",
      "\tduration          : 1689.00 s\n",
      "\tpointing (icrs)   : 329.7 deg, -29.7 deg\n",
      "\n",
      "\tdeadtime fraction : 6.4%\n",
      "Observation\n",
      "\n",
      "\tobs id            : 33800 \n",
      " \ttstart            : 53946.13\n",
      "\ttstop             : 53946.15\n",
      "\tduration          : 1689.00 s\n",
      "\tpointing (icrs)   : 329.1 deg, -30.2 deg\n",
      "\n",
      "\tdeadtime fraction : 5.8%\n",
      "Observation\n",
      "\n",
      "\tobs id            : 33801 \n",
      " \ttstart            : 53946.15\n",
      "\ttstop             : 53946.17\n",
      "\tduration          : 1689.00 s\n",
      "\tpointing (icrs)   : 330.3 deg, -30.2 deg\n",
      "\n",
      "\tdeadtime fraction : 5.3%\n",
      "Observation\n",
      "\n",
      "\tobs id            : 47802 \n",
      " \ttstart            : 54705.81\n",
      "\ttstop             : 54705.83\n",
      "\tduration          : 1688.00 s\n",
      "\tpointing (icrs)   : 330.3 deg, -30.2 deg\n",
      "\n",
      "\tdeadtime fraction : 6.8%\n",
      "Observation\n",
      "\n",
      "\tobs id            : 47803 \n",
      " \ttstart            : 54705.84\n",
      "\ttstop             : 54705.86\n",
      "\tduration          : 1688.00 s\n",
      "\tpointing (icrs)   : 329.1 deg, -30.2 deg\n",
      "\n",
      "\tdeadtime fraction : 7.2%\n",
      "Observation\n",
      "\n",
      "\tobs id            : 47804 \n",
      " \ttstart            : 54705.86\n",
      "\ttstop             : 54705.88\n",
      "\tduration          : 1689.00 s\n",
      "\tpointing (icrs)   : 329.7 deg, -29.7 deg\n",
      "\n",
      "\tdeadtime fraction : 7.6%\n",
      "Observation\n",
      "\n",
      "\tobs id            : 47827 \n",
      " \ttstart            : 54706.81\n",
      "\ttstop             : 54706.83\n",
      "\tduration          : 1688.00 s\n",
      "\tpointing (icrs)   : 330.3 deg, -30.2 deg\n",
      "\n",
      "\tdeadtime fraction : 6.7%\n",
      "Observation\n",
      "\n",
      "\tobs id            : 47828 \n",
      " \ttstart            : 54706.84\n",
      "\ttstop             : 54706.86\n",
      "\tduration          : 1687.00 s\n",
      "\tpointing (icrs)   : 329.1 deg, -30.2 deg\n",
      "\n",
      "\tdeadtime fraction : 7.4%\n",
      "Observation\n",
      "\n",
      "\tobs id            : 47829 \n",
      " \ttstart            : 54706.86\n",
      "\ttstop             : 54706.88\n",
      "\tduration          : 1688.00 s\n",
      "\tpointing (icrs)   : 329.7 deg, -30.7 deg\n",
      "\n",
      "\tdeadtime fraction : 7.6%\n",
      "\n"
     ]
    }
   ],
   "source": [
    "print(observations)"
   ]
  },
  {
   "cell_type": "markdown",
   "metadata": {},
   "source": [
    "## Perform the data reduction\n",
    "\n",
    "- Define the ON region\n",
    "- Create an exclusion mask for known Gamma-ray emitting regions\n",
    "- Define off regions to be extracted\n",
    "- Run the data reduction chain"
   ]
  },
  {
   "cell_type": "markdown",
   "metadata": {},
   "source": [
    "### Define the ON region"
   ]
  },
  {
   "cell_type": "code",
   "execution_count": 5,
   "metadata": {},
   "outputs": [],
   "source": [
    "on_region_radius = Angle(\"0.11 deg\")\n",
    "on_region = CircleSkyRegion(center=target_position, radius=on_region_radius)"
   ]
  },
  {
   "cell_type": "markdown",
   "metadata": {},
   "source": [
    "### Create exclusion mask\n",
    "\n",
    "Here, we choose a mask of 0.5 deg to the North of the blazar for illustration.\n",
    "Ideally, this should come from prior knowledge - where you expect gamma ray emission from."
   ]
  },
  {
   "cell_type": "code",
   "execution_count": 6,
   "metadata": {},
   "outputs": [
    {
     "data": {
      "image/png": "[encoded data removed]",
      "text/plain": [
       "<Figure size 432x288 with 1 Axes>"
      ]
     },
     "metadata": {
      "needs_background": "light"
     },
     "output_type": "display_data"
    }
   ],
   "source": [
    "exclusion_region = CircleSkyRegion(\n",
    "    center=SkyCoord(329.71, -29.5, unit=\"deg\", frame=\"icrs\"),\n",
    "    radius=0.5 * u.deg,\n",
    ")\n",
    "\n",
    "skydir = target_position.icrs\n",
    "geom = WcsGeom.create(width=5*u.deg, binsz=0.05, skydir=skydir, proj=\"TAN\", frame=\"icrs\"\n",
    ")\n",
    "\n",
    "exclusion_mask = ~geom.region_mask([exclusion_region])\n",
    "exclusion_mask.plot();"
   ]
  },
  {
   "cell_type": "markdown",
   "metadata": {},
   "source": [
    "### Choose off regions\n",
    "\n",
    "You can choose the \n",
    "- `ReflectedRegionsFinder` :  A set of OFF counts is found in the observation, by rotating the ON region selected around the pointing position (https://docs.gammapy.org/0.20/tutorials/analysis/1D/spectral_analysis.html). \n",
    "- `WobbleRegionsFinder` : Customise the selection of your off regions. This can be useful if you have energy dependent rad-max cuts (https://docs.gammapy.org/0.20/tutorials/analysis/1D/spectral_analysis_rad_max.html) or, you want to have more control on your region selection\n",
    "\n",
    "Here, we show an example with (2)"
   ]
  },
  {
   "cell_type": "code",
   "execution_count": 7,
   "metadata": {},
   "outputs": [],
   "source": [
    "energy_axis = MapAxis.from_energy_bounds(\n",
    "    0.1, 40, nbin=10, per_decade=True, unit=\"TeV\", name=\"energy\"\n",
    ")\n",
    "energy_axis_true = MapAxis.from_energy_bounds(\n",
    "    0.05, 100, nbin=20, per_decade=True, unit=\"TeV\", name=\"energy_true\"\n",
    ")\n",
    "\n",
    "geom = RegionGeom.create(region=on_region, axes=[energy_axis])\n",
    "dataset_empty = SpectrumDataset.create(\n",
    "    geom=geom, energy_axis_true=energy_axis_true\n",
    ")"
   ]
  },
  {
   "cell_type": "code",
   "execution_count": 8,
   "metadata": {},
   "outputs": [],
   "source": [
    "dataset_maker = SpectrumDatasetMaker(\n",
    "    containment_correction=True, selection=[\"counts\", \"exposure\", \"edisp\"]\n",
    ")\n",
    "\n",
    "# tell the background maker to use the WobbleRegionsFinder, let us use 3 off\n",
    "region_finder = WobbleRegionsFinder(n_off_regions=2)\n",
    "bkg_maker = ReflectedRegionsBackgroundMaker(region_finder=region_finder)\n",
    "\n",
    "# use the energy threshold specified in the DL3 files\n",
    "safe_mask_masker = SafeMaskMaker(methods=[\"aeff-default\"])"
   ]
  },
  {
   "cell_type": "code",
   "execution_count": 9,
   "metadata": {},
   "outputs": [],
   "source": [
    "datasets = Datasets()\n",
    "\n",
    "for observation in observations:\n",
    "    dataset = dataset_maker.run(\n",
    "        dataset_empty.copy(name=observation.obs_id), observation)\n",
    "    dataset_on_off = bkg_maker.run(dataset, observation)\n",
    "    dataset_on_off = safe_mask_masker.run(dataset_on_off, observation)\n",
    "    datasets.append(dataset_on_off)"
   ]
  },
  {
   "cell_type": "code",
   "execution_count": 10,
   "metadata": {},
   "outputs": [
    {
     "data": {
      "image/png": "[encoded data removed]",
      "text/plain": [
       "<Figure size 432x288 with 1 Axes>"
      ]
     },
     "metadata": {
      "needs_background": "light"
     },
     "output_type": "display_data"
    }
   ],
   "source": [
    "# create a counts map for visualisation later...\n",
    "ax = exclusion_mask.plot()\n",
    "plot_spectrum_datasets_off_regions(ax=ax, datasets=datasets)\n",
    "\n"
   ]
  },
  {
   "cell_type": "code",
   "execution_count": 11,
   "metadata": {},
   "outputs": [
    {
     "data": {
      "text/html": [
       "<div><i>Table length=21</i>\n",
       "<table id=\"table140299415406288\" class=\"table-striped table-bordered table-condensed\">\n",
       "<thead><tr><th>name</th><th>counts</th><th>excess</th><th>sqrt_ts</th><th>background</th><th>npred</th><th>npred_background</th><th>npred_signal</th><th>exposure_min</th><th>exposure_max</th><th>livetime</th><th>ontime</th><th>counts_rate</th><th>background_rate</th><th>excess_rate</th><th>n_bins</th><th>n_fit_bins</th><th>stat_type</th><th>stat_sum</th><th>counts_off</th><th>acceptance</th><th>acceptance_off</th><th>alpha</th></tr></thead>\n",
       "<thead><tr><th></th><th></th><th></th><th></th><th></th><th></th><th></th><th></th><th>m2 s</th><th>m2 s</th><th>s</th><th>s</th><th>1 / s</th><th>1 / s</th><th>1 / s</th><th></th><th></th><th></th><th></th><th></th><th></th><th></th><th></th></tr></thead>\n",
       "<thead><tr><th>str7</th><th>int64</th><th>float64</th><th>float64</th><th>float64</th><th>float64</th><th>float64</th><th>float64</th><th>float64</th><th>float64</th><th>float64</th><th>float64</th><th>float64</th><th>float64</th><th>float64</th><th>int64</th><th>int64</th><th>str5</th><th>float64</th><th>int64</th><th>float64</th><th>float64</th><th>float64</th></tr></thead>\n",
       "<tr><td>stacked</td><td>92</td><td>82.5</td><td>10.767284240561896</td><td>9.5</td><td>37.0</td><td>37.0</td><td>nan</td><td>2947134.75</td><td>938974976.0</td><td>1645.943673139438</td><td>1689.0</td><td>0.05589498687067532</td><td>0.005771764948602343</td><td>0.050123221922072976</td><td>27</td><td>16</td><td>wstat</td><td>124.76800428147962</td><td>19</td><td>16.0</td><td>32.0</td><td>0.5</td></tr>\n",
       "<tr><td>stacked</td><td>509</td><td>492.5</td><td>29.94129658755475</td><td>16.5</td><td>180.66666666666669</td><td>180.66666666666669</td><td>nan</td><td>3549790.25</td><td>1579164160.0</td><td>3242.045464714989</td><td>3378.0</td><td>0.15699964899929206</td><td>0.005089379584456422</td><td>0.15191026941483565</td><td>27</td><td>18</td><td>wstat</td><td>918.911068742291</td><td>33</td><td>18.0</td><td>36.0</td><td>0.5</td></tr>\n",
       "<tr><td>stacked</td><td>1321</td><td>1297.0</td><td>50.25435679615148</td><td>24.0</td><td>456.33333333333326</td><td>456.33333333333326</td><td>nan</td><td>38543.67578125</td><td>2112657792.0</td><td>4825.489054074511</td><td>5066.0</td><td>0.2737546360994403</td><td>0.004973589149422079</td><td>0.2687810469500182</td><td>27</td><td>19</td><td>wstat</td><td>2562.036379919156</td><td>48</td><td>19.0</td><td>38.0</td><td>0.5</td></tr>\n",
       "<tr><td>stacked</td><td>2206</td><td>2174.0</td><td>65.6963552880217</td><td>32.0</td><td>756.6666666666665</td><td>756.6666666666665</td><td>nan</td><td>163008.84375</td><td>2542220032.0</td><td>6386.866192122921</td><td>6756.0</td><td>0.3453963076165137</td><td>0.0050102818874562275</td><td>0.34038602572905746</td><td>27</td><td>20</td><td>wstat</td><td>4361.224431259612</td><td>64</td><td>20.0</td><td>40.0</td><td>0.5</td></tr>\n",
       "<tr><td>stacked</td><td>3158</td><td>3115.5</td><td>78.87293197387494</td><td>42.5</td><td>1081.0</td><td>1081.0</td><td>nan</td><td>511079.96875</td><td>2910420224.0</td><td>7954.743777347729</td><td>8445.0</td><td>0.3969958163822771</td><td>0.005342723938013545</td><td>0.39165309244426355</td><td>27</td><td>21</td><td>wstat</td><td>6276.397263825995</td><td>85</td><td>21.0</td><td>42.0</td><td>0.5</td></tr>\n",
       "<tr><td>stacked</td><td>3932</td><td>3881.0</td><td>88.15091984637475</td><td>51.0</td><td>1344.6666666666667</td><td>1344.6666666666667</td><td>nan</td><td>3783955.5</td><td>3232583424.0</td><td>9517.102900041267</td><td>10133.0</td><td>0.4131509390302957</td><td>0.005358773624248495</td><td>0.4077921654060472</td><td>27</td><td>21</td><td>wstat</td><td>7836.385501603602</td><td>102</td><td>21.0</td><td>42.0</td><td>0.5</td></tr>\n",
       "<tr><td>...</td><td>...</td><td>...</td><td>...</td><td>...</td><td>...</td><td>...</td><td>...</td><td>...</td><td>...</td><td>...</td><td>...</td><td>...</td><td>...</td><td>...</td><td>...</td><td>...</td><td>...</td><td>...</td><td>...</td><td>...</td><td>...</td><td>...</td></tr>\n",
       "<tr><td>stacked</td><td>7759</td><td>7623.5</td><td>122.05956372095592</td><td>135.5</td><td>2676.6666666666665</td><td>2676.6666666666665</td><td>nan</td><td>45967708.0</td><td>7560449024.0</td><td>25258.837867734954</td><td>27021.0</td><td>0.30717961137519967</td><td>0.005364458994888459</td><td>0.3018151523803112</td><td>27</td><td>22</td><td>wstat</td><td>15042.248207141676</td><td>271</td><td>22.0</td><td>44.0</td><td>0.5</td></tr>\n",
       "<tr><td>stacked</td><td>7782</td><td>7639.5</td><td>121.92033898968084</td><td>142.5</td><td>2689.0000000000005</td><td>2689.0000000000005</td><td>nan</td><td>45967708.0</td><td>7999279616.0</td><td>26825.77484041266</td><td>28709.0</td><td>0.2900941369371566</td><td>0.0053120553217096906</td><td>0.2847820816154469</td><td>27</td><td>22</td><td>wstat</td><td>15004.436467064705</td><td>285</td><td>22.0</td><td>44.0</td><td>0.5</td></tr>\n",
       "<tr><td>stacked</td><td>7805</td><td>7655.0</td><td>121.76201530123392</td><td>150.0</td><td>2701.6666666666665</td><td>2701.6666666666665</td><td>nan</td><td>45967708.0</td><td>8379006976.0</td><td>28386.046524269506</td><td>30398.0</td><td>0.27495903641695507</td><td>0.0052842864141631335</td><td>0.26967475000279195</td><td>27</td><td>22</td><td>wstat</td><td>14964.072670991542</td><td>300</td><td>22.0</td><td>44.0</td><td>0.5</td></tr>\n",
       "<tr><td>stacked</td><td>7820</td><td>7661.0</td><td>121.46889847800789</td><td>159.0</td><td>2712.6666666666665</td><td>2712.6666666666665</td><td>nan</td><td>45967708.0</td><td>8899743744.0</td><td>29961.598039252684</td><td>32086.0</td><td>0.2610007647040395</td><td>0.005306793041936353</td><td>0.2556939716621031</td><td>27</td><td>22</td><td>wstat</td><td>14928.570313326845</td><td>318</td><td>22.0</td><td>44.0</td><td>0.5</td></tr>\n",
       "<tr><td>stacked</td><td>7840</td><td>7672.0</td><td>121.22620719392764</td><td>168.0</td><td>2725.3333333333335</td><td>2725.3333333333335</td><td>nan</td><td>45967708.0</td><td>9327729664.0</td><td>31524.026917969808</td><td>33773.0</td><td>0.24869919126769058</td><td>0.005329268384307656</td><td>0.24336992288338294</td><td>27</td><td>22</td><td>wstat</td><td>14879.621013695665</td><td>336</td><td>22.0</td><td>44.0</td><td>0.5</td></tr>\n",
       "<tr><td>stacked</td><td>7878</td><td>7702.0</td><td>121.1920477870948</td><td>176.0</td><td>2743.333333333333</td><td>2743.333333333333</td><td>nan</td><td>45967708.0</td><td>9700502528.0</td><td>33083.63409630023</td><td>35461.0</td><td>0.2381237797839447</td><td>0.005319850881184853</td><td>0.23280392890275983</td><td>27</td><td>22</td><td>wstat</td><td>14878.042748558766</td><td>352</td><td>22.0</td><td>44.0</td><td>0.5</td></tr>\n",
       "</table></div>"
      ],
      "text/plain": [
       "<Table length=21>\n",
       "  name  counts  excess      sqrt_ts       ... acceptance acceptance_off  alpha \n",
       "                                          ...                                  \n",
       "  str7  int64  float64      float64       ...  float64      float64     float64\n",
       "------- ------ ------- ------------------ ... ---------- -------------- -------\n",
       "stacked     92    82.5 10.767284240561896 ...       16.0           32.0     0.5\n",
       "stacked    509   492.5  29.94129658755475 ...       18.0           36.0     0.5\n",
       "stacked   1321  1297.0  50.25435679615148 ...       19.0           38.0     0.5\n",
       "stacked   2206  2174.0   65.6963552880217 ...       20.0           40.0     0.5\n",
       "stacked   3158  3115.5  78.87293197387494 ...       21.0           42.0     0.5\n",
       "stacked   3932  3881.0  88.15091984637475 ...       21.0           42.0     0.5\n",
       "    ...    ...     ...                ... ...        ...            ...     ...\n",
       "stacked   7759  7623.5 122.05956372095592 ...       22.0           44.0     0.5\n",
       "stacked   7782  7639.5 121.92033898968084 ...       22.0           44.0     0.5\n",
       "stacked   7805  7655.0 121.76201530123392 ...       22.0           44.0     0.5\n",
       "stacked   7820  7661.0 121.46889847800789 ...       22.0           44.0     0.5\n",
       "stacked   7840  7672.0 121.22620719392764 ...       22.0           44.0     0.5\n",
       "stacked   7878  7702.0  121.1920477870948 ...       22.0           44.0     0.5"
      ]
     },
     "execution_count": 11,
     "metadata": {},
     "output_type": "execute_result"
    }
   ],
   "source": [
    "info_table = datasets.info_table(cumulative=True)\n",
    "info_table"
   ]
  },
  {
   "cell_type": "code",
   "execution_count": 12,
   "metadata": {},
   "outputs": [
    {
     "data": {
      "image/png": "[encoded data removed]",
      "text/plain": [
       "<Figure size 720x720 with 2 Axes>"
      ]
     },
     "metadata": {
      "needs_background": "light"
     },
     "output_type": "display_data"
    }
   ],
   "source": [
    "plt.figure(figsize=(10, 10))\n",
    "ax1 = plt.subplot(221)\n",
    "ax1.plot(\n",
    "    info_table[\"livetime\"].to(\"h\"), info_table[\"excess\"], marker=\"o\", ls=\"none\"\n",
    ")\n",
    "ax1.set_xlabel(\"Livetime [h]\")\n",
    "ax1.set_ylabel(\"Excess\");\n",
    "\n",
    "\n",
    "ax2 = plt.subplot(222)\n",
    "ax2.plot(\n",
    "    info_table[\"livetime\"].to(\"h\"),\n",
    "    info_table[\"sqrt_ts\"],\n",
    "    marker=\"o\",\n",
    "    ls=\"none\",\n",
    ")\n",
    "ax2.set_xlabel(\"Livetime [h]\")\n",
    "ax2.set_ylabel(\"Sqrt(TS)\");\n"
   ]
  },
  {
   "cell_type": "markdown",
   "metadata": {},
   "source": [
    "### Save the DL3 files"
   ]
  },
  {
   "cell_type": "code",
   "execution_count": 13,
   "metadata": {},
   "outputs": [],
   "source": [
    "datasets.write(\"DL3-1D.fitz.gz\", overwrite=True)"
   ]
  },
  {
   "cell_type": "code",
   "execution_count": 14,
   "metadata": {},
   "outputs": [],
   "source": [
    "#create stacked\n",
    "stacked = datasets.stack_reduce()"
   ]
  },
  {
   "cell_type": "code",
   "execution_count": 15,
   "metadata": {},
   "outputs": [
    {
     "name": "stdout",
     "output_type": "stream",
     "text": [
      "SpectrumDatasetOnOff\n",
      "--------------------\n",
      "\n",
      "  Name                            : xI4drIqv \n",
      "\n",
      "  Total counts                    : 7878 \n",
      "  Total background counts         : 176.00\n",
      "  Total excess counts             : 7702.00\n",
      "\n",
      "  Predicted counts                : 2743.33\n",
      "  Predicted background counts     : 2743.33\n",
      "  Predicted excess counts         : nan\n",
      "\n",
      "  Exposure min                    : 4.60e+07 m2 s\n",
      "  Exposure max                    : 9.70e+09 m2 s\n",
      "\n",
      "  Number of total bins            : 27 \n",
      "  Number of fit bins              : 22 \n",
      "\n",
      "  Fit statistic type              : wstat\n",
      "  Fit statistic value (-2 log(L)) : 14878.04\n",
      "\n",
      "  Number of models                : 0 \n",
      "  Number of parameters            : 0\n",
      "  Number of free parameters       : 0\n",
      "\n",
      "  Total counts_off                : 352 \n",
      "  Acceptance                      : 27 \n",
      "  Acceptance off                  : 54 \n",
      "\n"
     ]
    }
   ],
   "source": [
    "print(stacked)"
   ]
  },
  {
   "cell_type": "code",
   "execution_count": 16,
   "metadata": {},
   "outputs": [
    {
     "data": {
      "image/png": "[encoded data removed]",
      "text/plain": [
       "<Figure size 1152x288 with 4 Axes>"
      ]
     },
     "metadata": {
      "needs_background": "light"
     },
     "output_type": "display_data"
    }
   ],
   "source": [
    "stacked.peek()"
   ]
  },
  {
   "cell_type": "markdown",
   "metadata": {},
   "source": [
    "## Data Fitting\n",
    "- What is the significance of the detected source?\n",
    "- Can we detect a cutoff in the observed spectrum?\n",
    "- H0: Background only\n",
    "- H1: Power law model\n",
    "- H2: Cutoff power law\n",
    "\n",
    "This logic can be generalised to other questions - is the source extended/variable/etc"
   ]
  },
  {
   "cell_type": "code",
   "execution_count": 17,
   "metadata": {},
   "outputs": [],
   "source": [
    "#explain global Models object\n",
    "models = Models()"
   ]
  },
  {
   "cell_type": "code",
   "execution_count": 18,
   "metadata": {},
   "outputs": [],
   "source": [
    "## Background only - the wstat background "
   ]
  },
  {
   "cell_type": "code",
   "execution_count": 19,
   "metadata": {},
   "outputs": [
    {
     "name": "stdout",
     "output_type": "stream",
     "text": [
      "14878.042748558766\n"
     ]
    }
   ],
   "source": [
    "L0 = stacked.stat_sum()\n",
    "print(L0)"
   ]
  },
  {
   "cell_type": "code",
   "execution_count": 20,
   "metadata": {},
   "outputs": [
    {
     "data": {
      "text/plain": [
       "<AxesSubplot:xlabel='Energy [TeV]', ylabel='Residuals (data - model)'>"
      ]
     },
     "execution_count": 20,
     "metadata": {},
     "output_type": "execute_result"
    },
    {
     "data": {
      "image/png": "[encoded data removed]",
      "text/plain": [
       "<Figure size 432x288 with 1 Axes>"
      ]
     },
     "metadata": {
      "needs_background": "light"
     },
     "output_type": "display_data"
    }
   ],
   "source": [
    "stacked.plot_residuals_spectral()"
   ]
  },
  {
   "cell_type": "markdown",
   "metadata": {},
   "source": [
    "### Now, add a source model\n",
    "- Need to consider EBL absorption (see: https://docs.gammapy.org/0.20/modeling/gallery/spectral/plot_absorbed.html?highlight=ebl)"
   ]
  },
  {
   "cell_type": "code",
   "execution_count": 21,
   "metadata": {},
   "outputs": [],
   "source": [
    "spectral_model = ExpCutoffPowerLawSpectralModel()\n",
    "redshift = 0.116\n",
    "ebl = EBLAbsorptionNormSpectralModel.read_builtin(\"dominguez\", redshift=redshift)\n",
    "spectral_model1 = spectral_model*ebl\n",
    "pks_model = SkyModel(spectral_model=spectral_model1,\n",
    "                    name=\"pks_model\")"
   ]
  },
  {
   "cell_type": "code",
   "execution_count": 22,
   "metadata": {},
   "outputs": [
    {
     "data": {
      "text/html": [
       "<div><i>Table length=7</i>\n",
       "<table id=\"table140299739022192\" class=\"table-striped table-bordered table-condensed\">\n",
       "<thead><tr><th>type</th><th>name</th><th>value</th><th>unit</th><th>error</th><th>min</th><th>max</th><th>frozen</th><th>is_norm</th><th>link</th></tr></thead>\n",
       "<thead><tr><th>str8</th><th>str10</th><th>float64</th><th>str14</th><th>int64</th><th>float64</th><th>float64</th><th>bool</th><th>bool</th><th>str1</th></tr></thead>\n",
       "<tr><td>spectral</td><td>index</td><td>1.5000e+00</td><td></td><td>0.000e+00</td><td>nan</td><td>nan</td><td>False</td><td>False</td><td></td></tr>\n",
       "<tr><td>spectral</td><td>amplitude</td><td>1.0000e-12</td><td>cm-2 s-1 TeV-1</td><td>0.000e+00</td><td>nan</td><td>nan</td><td>False</td><td>True</td><td></td></tr>\n",
       "<tr><td>spectral</td><td>reference</td><td>1.0000e+00</td><td>TeV</td><td>0.000e+00</td><td>nan</td><td>nan</td><td>True</td><td>False</td><td></td></tr>\n",
       "<tr><td>spectral</td><td>lambda_</td><td>1.0000e-01</td><td>TeV-1</td><td>0.000e+00</td><td>nan</td><td>nan</td><td>False</td><td>False</td><td></td></tr>\n",
       "<tr><td>spectral</td><td>alpha</td><td>1.0000e+00</td><td></td><td>0.000e+00</td><td>nan</td><td>nan</td><td>True</td><td>False</td><td></td></tr>\n",
       "<tr><td>spectral</td><td>alpha_norm</td><td>1.0000e+00</td><td></td><td>0.000e+00</td><td>nan</td><td>nan</td><td>True</td><td>False</td><td></td></tr>\n",
       "<tr><td>spectral</td><td>redshift</td><td>1.1600e-01</td><td></td><td>0.000e+00</td><td>nan</td><td>nan</td><td>True</td><td>False</td><td></td></tr>\n",
       "</table></div>"
      ],
      "text/plain": [
       "<Table length=7>\n",
       "  type      name      value         unit      ...   max   frozen is_norm link\n",
       "  str8     str10     float64       str14      ... float64  bool    bool  str1\n",
       "-------- ---------- ---------- -------------- ... ------- ------ ------- ----\n",
       "spectral      index 1.5000e+00                ...     nan  False   False     \n",
       "spectral  amplitude 1.0000e-12 cm-2 s-1 TeV-1 ...     nan  False    True     \n",
       "spectral  reference 1.0000e+00            TeV ...     nan   True   False     \n",
       "spectral    lambda_ 1.0000e-01          TeV-1 ...     nan  False   False     \n",
       "spectral      alpha 1.0000e+00                ...     nan   True   False     \n",
       "spectral alpha_norm 1.0000e+00                ...     nan   True   False     \n",
       "spectral   redshift 1.1600e-01                ...     nan   True   False     "
      ]
     },
     "execution_count": 22,
     "metadata": {},
     "output_type": "execute_result"
    }
   ],
   "source": [
    "pks_model.parameters.to_table()"
   ]
  },
  {
   "cell_type": "code",
   "execution_count": 23,
   "metadata": {},
   "outputs": [],
   "source": [
    "spectral_model.amplitude.value = 1e-12\n",
    "spectral_model.index.value = 2.0\n",
    "spectral_model.lambda_.value = 0.0\n",
    "spectral_model.lambda_.frozen = True # Behaves as a power law, cutoff fixed at infty"
   ]
  },
  {
   "cell_type": "code",
   "execution_count": 24,
   "metadata": {},
   "outputs": [],
   "source": [
    "models = pks_model"
   ]
  },
  {
   "cell_type": "code",
   "execution_count": 25,
   "metadata": {},
   "outputs": [],
   "source": [
    "stacked.models = models"
   ]
  },
  {
   "cell_type": "code",
   "execution_count": 26,
   "metadata": {},
   "outputs": [
    {
     "data": {
      "text/plain": [
       "['pks_model']"
      ]
     },
     "execution_count": 26,
     "metadata": {},
     "output_type": "execute_result"
    }
   ],
   "source": [
    "stacked.models.names"
   ]
  },
  {
   "cell_type": "code",
   "execution_count": 27,
   "metadata": {},
   "outputs": [
    {
     "name": "stdout",
     "output_type": "stream",
     "text": [
      "CPU times: user 662 ms, sys: 3.07 ms, total: 665 ms\n",
      "Wall time: 664 ms\n"
     ]
    }
   ],
   "source": [
    "%%time\n",
    "fit2 = Fit(optimize_opts={\"print_level\": 1})\n",
    "result2 = fit2.run(datasets=[stacked])"
   ]
  },
  {
   "cell_type": "code",
   "execution_count": 28,
   "metadata": {},
   "outputs": [
    {
     "data": {
      "text/plain": [
       "True"
      ]
     },
     "execution_count": 28,
     "metadata": {},
     "output_type": "execute_result"
    }
   ],
   "source": [
    "result2.success"
   ]
  },
  {
   "cell_type": "code",
   "execution_count": 29,
   "metadata": {},
   "outputs": [
    {
     "data": {
      "text/html": [
       "<div><i>Table length=7</i>\n",
       "<table id=\"table140299156973024\" class=\"table-striped table-bordered table-condensed\">\n",
       "<thead><tr><th>type</th><th>name</th><th>value</th><th>unit</th><th>error</th><th>min</th><th>max</th><th>frozen</th><th>is_norm</th><th>link</th></tr></thead>\n",
       "<thead><tr><th>str8</th><th>str10</th><th>float64</th><th>str14</th><th>float64</th><th>float64</th><th>float64</th><th>bool</th><th>bool</th><th>str1</th></tr></thead>\n",
       "<tr><td>spectral</td><td>index</td><td>2.8450e+00</td><td></td><td>2.314e-02</td><td>nan</td><td>nan</td><td>False</td><td>False</td><td></td></tr>\n",
       "<tr><td>spectral</td><td>amplitude</td><td>1.9273e-10</td><td>cm-2 s-1 TeV-1</td><td>3.337e-12</td><td>nan</td><td>nan</td><td>False</td><td>True</td><td></td></tr>\n",
       "<tr><td>spectral</td><td>reference</td><td>1.0000e+00</td><td>TeV</td><td>0.000e+00</td><td>nan</td><td>nan</td><td>True</td><td>False</td><td></td></tr>\n",
       "<tr><td>spectral</td><td>lambda_</td><td>0.0000e+00</td><td>TeV-1</td><td>0.000e+00</td><td>nan</td><td>nan</td><td>True</td><td>False</td><td></td></tr>\n",
       "<tr><td>spectral</td><td>alpha</td><td>1.0000e+00</td><td></td><td>0.000e+00</td><td>nan</td><td>nan</td><td>True</td><td>False</td><td></td></tr>\n",
       "<tr><td>spectral</td><td>alpha_norm</td><td>1.0000e+00</td><td></td><td>0.000e+00</td><td>nan</td><td>nan</td><td>True</td><td>False</td><td></td></tr>\n",
       "<tr><td>spectral</td><td>redshift</td><td>1.1600e-01</td><td></td><td>0.000e+00</td><td>nan</td><td>nan</td><td>True</td><td>False</td><td></td></tr>\n",
       "</table></div>"
      ],
      "text/plain": [
       "<Table length=7>\n",
       "  type      name      value         unit      ...   max   frozen is_norm link\n",
       "  str8     str10     float64       str14      ... float64  bool    bool  str1\n",
       "-------- ---------- ---------- -------------- ... ------- ------ ------- ----\n",
       "spectral      index 2.8450e+00                ...     nan  False   False     \n",
       "spectral  amplitude 1.9273e-10 cm-2 s-1 TeV-1 ...     nan  False    True     \n",
       "spectral  reference 1.0000e+00            TeV ...     nan   True   False     \n",
       "spectral    lambda_ 0.0000e+00          TeV-1 ...     nan   True   False     \n",
       "spectral      alpha 1.0000e+00                ...     nan   True   False     \n",
       "spectral alpha_norm 1.0000e+00                ...     nan   True   False     \n",
       "spectral   redshift 1.1600e-01                ...     nan   True   False     "
      ]
     },
     "execution_count": 29,
     "metadata": {},
     "output_type": "execute_result"
    }
   ],
   "source": [
    "models.parameters.to_table()"
   ]
  },
  {
   "cell_type": "code",
   "execution_count": 30,
   "metadata": {},
   "outputs": [
    {
     "name": "stdout",
     "output_type": "stream",
     "text": [
      "del TS of detection:  14725.614606155135 0.0\n"
     ]
    }
   ],
   "source": [
    "L1 = result2.total_stat\n",
    "print(\"del TS of detection: \", (L0-L1), chi2.sf((L0-L1), 4))"
   ]
  },
  {
   "cell_type": "code",
   "execution_count": 31,
   "metadata": {},
   "outputs": [
    {
     "data": {
      "text/plain": [
       "<AxesSubplot:xlabel='Energy [TeV]', ylabel='Residuals (data - model)'>"
      ]
     },
     "execution_count": 31,
     "metadata": {},
     "output_type": "execute_result"
    },
    {
     "data": {
      "image/png": "[encoded data removed]",
      "text/plain": [
       "<Figure size 432x288 with 1 Axes>"
      ]
     },
     "metadata": {
      "needs_background": "light"
     },
     "output_type": "display_data"
    }
   ],
   "source": [
    "stacked.plot_residuals_spectral()"
   ]
  },
  {
   "cell_type": "markdown",
   "metadata": {},
   "source": [
    "#### Get flux points"
   ]
  },
  {
   "cell_type": "code",
   "execution_count": 32,
   "metadata": {},
   "outputs": [],
   "source": [
    "energy_edges = np.logspace(-1, 1.6, 12)*u.TeV\n",
    "fpe = FluxPointsEstimator(energy_edges=energy_edges, source=pks_model.name, selection_optional=[\"ul\"])"
   ]
  },
  {
   "cell_type": "code",
   "execution_count": 33,
   "metadata": {},
   "outputs": [
    {
     "name": "stdout",
     "output_type": "stream",
     "text": [
      "CPU times: user 2.92 s, sys: 64.2 ms, total: 2.99 s\n",
      "Wall time: 2.91 s\n"
     ]
    }
   ],
   "source": [
    "%%time\n",
    "flux_points = fpe.run(datasets=[stacked])"
   ]
  },
  {
   "cell_type": "code",
   "execution_count": 34,
   "metadata": {},
   "outputs": [
    {
     "data": {
      "text/plain": [
       "<matplotlib.legend.Legend at 0x7f9a142f7fd0>"
      ]
     },
     "execution_count": 34,
     "metadata": {},
     "output_type": "execute_result"
    },
    {
     "data": {
      "image/png": "[encoded data removed]",
      "text/plain": [
       "<Figure size 432x288 with 1 Axes>"
      ]
     },
     "metadata": {
      "needs_background": "light"
     },
     "output_type": "display_data"
    }
   ],
   "source": [
    "ax = spectral_model.plot(energy_bounds=[0.1,20]*u.TeV, sed_type=\"e2dnde\", label=\"intrinsic\", color=\"blue\")\n",
    "spectral_model1.plot(ax=ax, energy_bounds=[0.1,20]*u.TeV, sed_type=\"e2dnde\", label=\"absorbed\", color=\"red\")\n",
    "spectral_model.plot_error(ax=ax, energy_bounds=[0.1,20]*u.TeV, sed_type=\"e2dnde\", label=\"absorbed\", facecolor=\"blue\")\n",
    "spectral_model1.plot_error(ax=ax, energy_bounds=[0.1,20]*u.TeV, sed_type=\"e2dnde\", label=\"absorbed\", facecolor=\"red\")\n",
    "flux_points.plot(ax=ax, sed_type=\"e2dnde\")\n",
    "plt.legend()"
   ]
  },
  {
   "cell_type": "markdown",
   "metadata": {},
   "source": [
    "### Now, search for cutoff"
   ]
  },
  {
   "cell_type": "code",
   "execution_count": 35,
   "metadata": {},
   "outputs": [],
   "source": [
    "spectral_model.lambda_.frozen = False"
   ]
  },
  {
   "cell_type": "code",
   "execution_count": 36,
   "metadata": {},
   "outputs": [
    {
     "name": "stdout",
     "output_type": "stream",
     "text": [
      "CPU times: user 466 ms, sys: 5.11 ms, total: 472 ms\n",
      "Wall time: 473 ms\n"
     ]
    }
   ],
   "source": [
    "%%time\n",
    "fit3 = Fit(optimize_opts={\"print_level\": 1})\n",
    "result3 = fit3.run(datasets=[stacked])"
   ]
  },
  {
   "cell_type": "code",
   "execution_count": 37,
   "metadata": {},
   "outputs": [
    {
     "data": {
      "text/html": [
       "<div><i>Table length=7</i>\n",
       "<table id=\"table140299738307072\" class=\"table-striped table-bordered table-condensed\">\n",
       "<thead><tr><th>type</th><th>name</th><th>value</th><th>unit</th><th>error</th><th>min</th><th>max</th><th>frozen</th><th>is_norm</th><th>link</th></tr></thead>\n",
       "<thead><tr><th>str8</th><th>str10</th><th>float64</th><th>str14</th><th>float64</th><th>float64</th><th>float64</th><th>bool</th><th>bool</th><th>str1</th></tr></thead>\n",
       "<tr><td>spectral</td><td>index</td><td>2.4676e+00</td><td></td><td>7.190e-02</td><td>nan</td><td>nan</td><td>False</td><td>False</td><td></td></tr>\n",
       "<tr><td>spectral</td><td>amplitude</td><td>3.1709e-10</td><td>cm-2 s-1 TeV-1</td><td>2.955e-11</td><td>nan</td><td>nan</td><td>False</td><td>True</td><td></td></tr>\n",
       "<tr><td>spectral</td><td>reference</td><td>1.0000e+00</td><td>TeV</td><td>0.000e+00</td><td>nan</td><td>nan</td><td>True</td><td>False</td><td></td></tr>\n",
       "<tr><td>spectral</td><td>lambda_</td><td>4.2215e-01</td><td>TeV-1</td><td>8.046e-02</td><td>nan</td><td>nan</td><td>False</td><td>False</td><td></td></tr>\n",
       "<tr><td>spectral</td><td>alpha</td><td>1.0000e+00</td><td></td><td>0.000e+00</td><td>nan</td><td>nan</td><td>True</td><td>False</td><td></td></tr>\n",
       "<tr><td>spectral</td><td>alpha_norm</td><td>1.0000e+00</td><td></td><td>0.000e+00</td><td>nan</td><td>nan</td><td>True</td><td>False</td><td></td></tr>\n",
       "<tr><td>spectral</td><td>redshift</td><td>1.1600e-01</td><td></td><td>0.000e+00</td><td>nan</td><td>nan</td><td>True</td><td>False</td><td></td></tr>\n",
       "</table></div>"
      ],
      "text/plain": [
       "<Table length=7>\n",
       "  type      name      value         unit      ...   max   frozen is_norm link\n",
       "  str8     str10     float64       str14      ... float64  bool    bool  str1\n",
       "-------- ---------- ---------- -------------- ... ------- ------ ------- ----\n",
       "spectral      index 2.4676e+00                ...     nan  False   False     \n",
       "spectral  amplitude 3.1709e-10 cm-2 s-1 TeV-1 ...     nan  False    True     \n",
       "spectral  reference 1.0000e+00            TeV ...     nan   True   False     \n",
       "spectral    lambda_ 4.2215e-01          TeV-1 ...     nan  False   False     \n",
       "spectral      alpha 1.0000e+00                ...     nan   True   False     \n",
       "spectral alpha_norm 1.0000e+00                ...     nan   True   False     \n",
       "spectral   redshift 1.1600e-01                ...     nan   True   False     "
      ]
     },
     "execution_count": 37,
     "metadata": {},
     "output_type": "execute_result"
    }
   ],
   "source": [
    "models.parameters.to_table()"
   ]
  },
  {
   "cell_type": "code",
   "execution_count": 38,
   "metadata": {},
   "outputs": [
    {
     "name": "stdout",
     "output_type": "stream",
     "text": [
      "del TS of cutoff:  37.873645056317415 p-value:  7.54780142191898e-10\n"
     ]
    }
   ],
   "source": [
    "L2 = result3.total_stat\n",
    "print(\"del TS of cutoff: \",(L1-L2), \"p-value: \", chi2.sf((L1-L2),1))"
   ]
  },
  {
   "cell_type": "code",
   "execution_count": 39,
   "metadata": {},
   "outputs": [
    {
     "data": {
      "image/png": "[encoded data removed]",
      "text/plain": [
       "<Figure size 1008x288 with 3 Axes>"
      ]
     },
     "metadata": {
      "needs_background": "light"
     },
     "output_type": "display_data"
    }
   ],
   "source": [
    "### See a likelihood scan of free parameters\n",
    "total_stat = result3.total_stat\n",
    "\n",
    "fig, axes = plt.subplots(nrows=1, ncols=3, figsize=(14, 4))\n",
    "\n",
    "for ax, par in zip(axes, pks_model.parameters.free_parameters):\n",
    "    par.scan_n_values = 17\n",
    "\n",
    "    profile = fit3.stat_profile(datasets=[stacked], parameter=par)\n",
    "    ax.plot(profile[f\"{par.name}_scan\"], profile[\"stat_scan\"] - total_stat)\n",
    "    ax.set_xlabel(f\"{par.unit}\")\n",
    "    ax.set_ylabel(\"Delta TS\")\n",
    "    ax.set_title(f\"{par.name}: {par.value:.1e} +- {par.error:.1e}\")"
   ]
  },
  {
   "cell_type": "code",
   "execution_count": 40,
   "metadata": {},
   "outputs": [
    {
     "data": {
      "text/plain": [
       "<AxesSubplot:xlabel='Energy [TeV]', ylabel='Residuals (data - model)'>"
      ]
     },
     "execution_count": 40,
     "metadata": {},
     "output_type": "execute_result"
    },
    {
     "data": {
      "image/png": "[encoded data removed]",
      "text/plain": [
       "<Figure size 432x288 with 1 Axes>"
      ]
     },
     "metadata": {
      "needs_background": "light"
     },
     "output_type": "display_data"
    }
   ],
   "source": [
    "stacked.plot_residuals_spectral()"
   ]
  },
  {
   "cell_type": "markdown",
   "metadata": {},
   "source": [
    "#### Get flux points"
   ]
  },
  {
   "cell_type": "code",
   "execution_count": 41,
   "metadata": {},
   "outputs": [
    {
     "name": "stdout",
     "output_type": "stream",
     "text": [
      "CPU times: user 2.75 s, sys: 43.1 ms, total: 2.79 s\n",
      "Wall time: 2.7 s\n"
     ]
    }
   ],
   "source": [
    "%%time\n",
    "flux_points = fpe.run(datasets=[stacked])"
   ]
  },
  {
   "cell_type": "code",
   "execution_count": 42,
   "metadata": {},
   "outputs": [
    {
     "data": {
      "text/plain": [
       "<matplotlib.legend.Legend at 0x7f99f1da5a00>"
      ]
     },
     "execution_count": 42,
     "metadata": {},
     "output_type": "execute_result"
    },
    {
     "data": {
      "image/png": "[encoded data removed]",
      "text/plain": [
       "<Figure size 432x288 with 1 Axes>"
      ]
     },
     "metadata": {
      "needs_background": "light"
     },
     "output_type": "display_data"
    }
   ],
   "source": [
    "ax = spectral_model.plot(energy_bounds=[0.1,20]*u.TeV, sed_type=\"e2dnde\", label=\"intrinsic\", color=\"blue\")\n",
    "spectral_model1.plot(ax=ax, energy_bounds=[0.1,20]*u.TeV, sed_type=\"e2dnde\", label=\"absorbed\", color=\"red\")\n",
    "spectral_model.plot_error(ax=ax, energy_bounds=[0.1,20]*u.TeV, sed_type=\"e2dnde\", label=\"absorbed\", facecolor=\"blue\")\n",
    "spectral_model1.plot_error(ax=ax, energy_bounds=[0.1,20]*u.TeV, sed_type=\"e2dnde\", label=\"absorbed\", facecolor=\"red\")\n",
    "flux_points.plot(ax=ax, sed_type=\"e2dnde\")\n",
    "plt.legend()"
   ]
  },
  {
   "cell_type": "code",
   "execution_count": 43,
   "metadata": {},
   "outputs": [
    {
     "data": {
      "text/html": [
       "<div><i>Table length=11</i>\n",
       "<table id=\"table140299171176896\" class=\"table-striped table-bordered table-condensed\">\n",
       "<thead><tr><th>e_ref</th><th>e_min</th><th>e_max</th><th>ref_dnde</th><th>ref_flux</th><th>ref_eflux</th><th>norm</th><th>norm_err</th><th>norm_ul</th><th>ts</th><th>sqrt_ts</th><th>npred [1]</th><th>npred_excess [1]</th><th>stat</th><th>is_ul</th><th>counts [1]</th><th>success</th></tr></thead>\n",
       "<thead><tr><th>TeV</th><th>TeV</th><th>TeV</th><th>1 / (cm2 s TeV)</th><th>1 / (cm2 s)</th><th>TeV / (cm2 s)</th><th></th><th></th><th></th><th></th><th></th><th></th><th></th><th></th><th></th><th></th><th></th></tr></thead>\n",
       "<thead><tr><th>float64</th><th>float64</th><th>float64</th><th>float64</th><th>float64</th><th>float64</th><th>float64</th><th>float64</th><th>float64</th><th>float64</th><th>float64</th><th>float64</th><th>float32</th><th>float64</th><th>bool</th><th>float64</th><th>bool</th></tr></thead>\n",
       "<tr><td>0.12484541354466076</td><td>0.10000000000000002</td><td>0.1558637728313736</td><td>4.909442916390356e-08</td><td>2.772549984293527e-09</td><td>3.3992190978803226e-10</td><td>nan</td><td>nan</td><td>nan</td><td>nan</td><td>nan</td><td>nan</td><td>0.0</td><td>0.0</td><td>False</td><td>0.0</td><td>False</td></tr>\n",
       "<tr><td>0.21742229366110305</td><td>0.1558637728313736</td><td>0.3032934011676863</td><td>1.0899856768881693e-08</td><td>1.660016931932732e-09</td><td>3.436746906979284e-10</td><td>nan</td><td>nan</td><td>nan</td><td>nan</td><td>nan</td><td>nan</td><td>0.0</td><td>0.0</td><td>False</td><td>0.0</td><td>False</td></tr>\n",
       "<tr><td>0.37864790094146483</td><td>0.3032934011676863</td><td>0.47272453780854895</td><td>2.0017356292205224e-09</td><td>3.4833365941215153e-10</td><td>1.281528020171072e-10</td><td>1.0891684327607805</td><td>0.022747593109355993</td><td>1.135283594354454</td><td>4656.738207339109</td><td>68.24029753260979</td><td>2369.1016668569973</td><td>2338.1553</td><td>23.459968267872682</td><td>False</td><td>2369.0</td><td>True</td></tr>\n",
       "<tr><td>0.6594274693415539</td><td>0.47272453780854895</td><td>0.9198688719186309</td><td>2.8548642488661583e-10</td><td>1.4133616050144162e-10</td><td>8.62676728154788e-11</td><td>0.9440546834804646</td><td>0.015807309262759632</td><td>0.9760115663944957</td><td>7102.328178304417</td><td>84.27531179594898</td><td>3738.2835534230444</td><td>3669.431</td><td>39.99107980757253</td><td>False</td><td>3739.0</td><td>True</td></tr>\n",
       "<tr><td>1.1484140972154202</td><td>0.9198688719186309</td><td>1.4337423288737732</td><td>3.5412123425229075e-11</td><td>1.9225419261417e-11</td><td>2.1285376379514256e-11</td><td>1.0135438254276423</td><td>0.031545202977236966</td><td>1.0780548899091706</td><td>2001.399277436154</td><td>44.73700121192919</td><td>1107.7877099723707</td><td>1076.77</td><td>0.033817020477727056</td><td>False</td><td>1108.0</td><td>True</td></tr>\n",
       "<tr><td>2.0</td><td>1.4337423288737732</td><td>2.789901587924842</td><td>4.3818008688824956e-12</td><td>6.659900090764804e-12</td><td>1.2246233255743486e-11</td><td>1.040050154423628</td><td>0.0463180059186515</td><td>1.135266992453803</td><td>946.5792914942522</td><td>30.76652875275747</td><td>559.5706001232945</td><td>536.8678</td><td>1.836610650884836</td><td>False</td><td>560.0</td><td>True</td></tr>\n",
       "<tr><td>3.483064174933826</td><td>2.789901587924842</td><td>4.34844587322206</td><td>4.032932248598544e-13</td><td>6.88502921929589e-13</td><td>2.2743906954133174e-12</td><td>0.9869755731048179</td><td>0.12861600617258379</td><td>1.2607128989896774</td><td>90.76599662863961</td><td>9.52711900989169</td><td>86.86652226497397</td><td>74.30334</td><td>2.463957787772017</td><td>False</td><td>87.0</td><td>True</td></tr>\n",
       "<tr><td>6.065868023353727</td><td>4.34844587322206</td><td>8.461587415248545</td><td>1.6641010297924993e-14</td><td>1.0560784904879006e-13</td><td>5.46594939135668e-13</td><td>0.23392794793565147</td><td>0.23389520978893197</td><td>0.7555723255378567</td><td>1.0704194772666824</td><td>1.0346107854003275</td><td>12.711231272721545</td><td>4.066076</td><td>2.351479963691603</td><td>True</td><td>12.0</td><td>True</td></tr>\n",
       "<tr><td>10.56390380101001</td><td>8.461587415248545</td><td>13.188549386831076</td><td>9.526514334195087e-17</td><td>9.778583776420462e-16</td><td>9.06280339751556e-15</td><td>4.7220083203864425</td><td>2.7262525594639038</td><td>nan</td><td>5.180144494575327</td><td>2.275993078762615</td><td>3.6665133223555055</td><td>2.9998467</td><td>3.03338966986599</td><td>False</td><td>3.0</td><td>True</td></tr>\n",
       "<tr><td>18.397377438372608</td><td>13.188549386831076</td><td>25.663436264484197</td><td>7.003160075182552e-23</td><td>1.3827623846333145e-18</td><td>1.9023403867309483e-17</td><td>-12.747716800672144</td><td>12.572754970853186</td><td>nan</td><td>0.39043440761383263</td><td>-0.6248475074878931</td><td>0.0</td><td>-0.4996072</td><td>0.42049580860249614</td><td>True</td><td>0.0</td><td>True</td></tr>\n",
       "<tr><td>32.03962313416573</td><td>25.663436264484197</td><td>40.0</td><td>7.620775280743372e-43</td><td>7.984371253144757e-33</td><td>2.071792857324105e-31</td><td>0.04561354658588146</td><td>26.089062210455644</td><td>nan</td><td>-8.747449565773618e-06</td><td>0.0</td><td>4.373724782886809e-06</td><td>4.373725e-06</td><td>8.747449565773618e-06</td><td>True</td><td>0.0</td><td>True</td></tr>\n",
       "</table></div>"
      ],
      "text/plain": [
       "<Table length=11>\n",
       "       e_ref               e_min        ... counts [1] success\n",
       "        TeV                 TeV         ...                   \n",
       "      float64             float64       ...  float64     bool \n",
       "------------------- ------------------- ... ---------- -------\n",
       "0.12484541354466076 0.10000000000000002 ...        0.0   False\n",
       "0.21742229366110305  0.1558637728313736 ...        0.0   False\n",
       "0.37864790094146483  0.3032934011676863 ...     2369.0    True\n",
       " 0.6594274693415539 0.47272453780854895 ...     3739.0    True\n",
       " 1.1484140972154202  0.9198688719186309 ...     1108.0    True\n",
       "                2.0  1.4337423288737732 ...      560.0    True\n",
       "  3.483064174933826   2.789901587924842 ...       87.0    True\n",
       "  6.065868023353727    4.34844587322206 ...       12.0    True\n",
       "  10.56390380101001   8.461587415248545 ...        3.0    True\n",
       " 18.397377438372608  13.188549386831076 ...        0.0    True\n",
       "  32.03962313416573  25.663436264484197 ...        0.0    True"
      ]
     },
     "execution_count": 43,
     "metadata": {},
     "output_type": "execute_result"
    }
   ],
   "source": [
    "flux_points.to_table()"
   ]
  },
  {
   "cell_type": "markdown",
   "metadata": {},
   "source": [
    "We have successfully detected a cutoff in the observed spectrum."
   ]
  },
  {
   "cell_type": "markdown",
   "metadata": {},
   "source": [
    "## Exercises:\n",
    "\n",
    "\n",
    "- Try other models, eg: log-parabola, broken power law, etc. See the model gallery for a list of available models: https://docs.gammapy.org/0.19/modeling/gallery/index.html \n",
    "\n",
    "- Simulate synthetic datasets to test the stability of the fit\n",
    "\n",
    "- Use different off regions and repeat\n",
    "\n",
    "- Repeat exercise on the Crab runs available in GAMMAPY_DATA. Alternatively, if you have access to CTA DC1 simulated data, repeat on your favourite source \n"
   ]
  },
  {
   "cell_type": "code",
   "execution_count": null,
   "metadata": {},
   "outputs": [],
   "source": []
  }
 ],
 "metadata": {
  "kernelspec": {
   "display_name": "Python 3 (ipykernel)",
   "language": "python",
   "name": "python3"
  },
  "language_info": {
   "codemirror_mode": {
    "name": "ipython",
    "version": 3
   },
   "file_extension": ".py",
   "mimetype": "text/x-python",
   "name": "python",
   "nbconvert_exporter": "python",
   "pygments_lexer": "ipython3",
   "version": "3.8.13"
  }
 },
 "nbformat": 4,
 "nbformat_minor": 4
}
